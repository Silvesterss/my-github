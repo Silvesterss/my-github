{
 "cells": [
  {
   "cell_type": "code",
   "execution_count": 9,
   "metadata": {},
   "outputs": [],
   "source": [
    "# 交换arr的i位置和j位置的值，但i!=j\n",
    "def swap(arr, i, j):\n",
    "    if i != j:\n",
    "        arr[i] = arr[i] ^ arr[j]\n",
    "        arr[j] = arr[i] ^ arr[j]\n",
    "        arr[i] = arr[i] ^ arr[j]"
   ]
  },
  {
   "cell_type": "code",
   "execution_count": 29,
   "metadata": {},
   "outputs": [
    {
     "name": "stdout",
     "output_type": "stream",
     "text": [
      "选择排序: [1, 1, 2, 2, 4, 5, 6]\n",
      "冒泡排序: [1, 1, 2, 2, 4, 5, 6]\n",
      "2\n",
      "2 33\n"
     ]
    }
   ],
   "source": [
    "arr = [2,2,4,1,1,5,6]\n",
    "\n",
    "# 选择排序\n",
    "n = len(arr) \n",
    "for i in range(n-1):\n",
    "    for j in range(i+1,n):\n",
    "        if arr[j] < arr[i]:\n",
    "            swap(arr, i, j)\n",
    "print('选择排序:', arr)\n",
    "\n",
    "# 冒泡排序\n",
    "n = len(arr) \n",
    "for i in range(1, n):\n",
    "    for j in range(i):\n",
    "        if arr[j+1] < arr[j]:\n",
    "            swap(arr, j, j+1)\n",
    "print('冒泡排序:', arr)\n",
    "\n",
    "## 异或用法：1)一个数组，只有一个数出现奇数次，其他数出现偶数次，找到这个数\n",
    "##          2)一个数组，只有二个数出现奇数次，其他数出现偶数次，找到这个数\n",
    "# 1)\n",
    "arr = [1,1,2,3,3,3,3]\n",
    "eor = 0\n",
    "for i in arr:\n",
    "    eor = eor ^ i\n",
    "print(eor)\n",
    "# 2)\n",
    "arr = [1,1,2,3,3,3,3,33]\n",
    "eor = 0\n",
    "for i in arr:\n",
    "    eor = eor ^ i   # 假设这两个数为a和b，此时eor=a^b\n",
    "a = 0\n",
    "right_one = eor & (~eor + 1)    # 因为a!=b，所以a和b一定有一位二进制不同，即a^b一定有一个1，取a^b最右侧的1\n",
    "for i in arr:\n",
    "    if i & right_one == 0:\n",
    "        a = a ^ i\n",
    "print(a, eor ^ a)"
   ]
  }
 ],
 "metadata": {
  "kernelspec": {
   "display_name": "Python 3",
   "language": "python",
   "name": "python3"
  },
  "language_info": {
   "codemirror_mode": {
    "name": "ipython",
    "version": 3
   },
   "file_extension": ".py",
   "mimetype": "text/x-python",
   "name": "python",
   "nbconvert_exporter": "python",
   "pygments_lexer": "ipython3",
   "version": "3.8.0"
  }
 },
 "nbformat": 4,
 "nbformat_minor": 2
}
